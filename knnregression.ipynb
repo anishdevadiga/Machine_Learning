{
  "nbformat": 4,
  "nbformat_minor": 0,
  "metadata": {
    "colab": {
      "provenance": [],
      "authorship_tag": "ABX9TyOPIA36a+nBux6dnb2ENF4l",
      "include_colab_link": true
    },
    "kernelspec": {
      "name": "python3",
      "display_name": "Python 3"
    },
    "language_info": {
      "name": "python"
    }
  },
  "cells": [
    {
      "cell_type": "markdown",
      "metadata": {
        "id": "view-in-github",
        "colab_type": "text"
      },
      "source": [
        "<a href=\"https://colab.research.google.com/github/anishdevadiga/Machine_Learning/blob/main/knnregression.ipynb\" target=\"_parent\"><img src=\"https://colab.research.google.com/assets/colab-badge.svg\" alt=\"Open In Colab\"/></a>"
      ]
    },
    {
      "cell_type": "code",
      "execution_count": 13,
      "metadata": {
        "id": "ZGAMBbGr-VM5"
      },
      "outputs": [],
      "source": [
        "from sklearn import datasets\n",
        "import numpy as np\n",
        "from sklearn.model_selection import train_test_split\n",
        "from sklearn.metrics import accuracy_score , classification_report , confusion_matrix\n",
        "from tabulate import tabulate\n",
        "import matplotlib.pyplot as plt\n",
        "import seaborn as sns\n",
        "from sklearn.neighbors import KNeighborsClassifier"
      ]
    },
    {
      "cell_type": "code",
      "source": [
        "wine=datasets.load_wine()\n",
        "\n",
        "test=[0.2,0.3,0.4,0.5]\n",
        "for t in test:\n",
        "  print(f'\\nKNN Regression for test size {t}')\n",
        "  X_train,X_test,y_train,y_test=train_test_split(wine.data,wine.target,test_size=t,random_state=42)\n",
        "\n",
        "  modelKnn=KNeighborsClassifier(n_neighbors=5)\n",
        "  modelKnn.fit(X_train,y_train)\n",
        "\n",
        "  predicted=modelKnn.predict(X_test)\n",
        "  accuracy=accuracy_score(y_test,predicted)\n",
        "  conf_matrix=confusion_matrix(y_test,predicted)\n",
        "  print(f'Accuracy : - {accuracy_score(y_test,predicted)}')\n",
        "  print(f'Confusion Matrix : - \\n{conf_matrix}')\n",
        "  print(f'Classification Report:\\n{classification_report(y_test,predicted)}')\n",
        "  print(f'MisClassification Rate = {1-accuracy}\\n')\n",
        "\n"
      ],
      "metadata": {
        "colab": {
          "base_uri": "https://localhost:8080/"
        },
        "id": "HpoIifop_6jS",
        "outputId": "a434b103-6671-4c6f-9a99-0df27de50bd8"
      },
      "execution_count": 22,
      "outputs": [
        {
          "output_type": "stream",
          "name": "stdout",
          "text": [
            "\n",
            "KNN Regression for test size 0.2\n",
            "Accuracy : - 0.7222222222222222\n",
            "Confusion Matrix : - \n",
            "[[12  0  2]\n",
            " [ 0 11  3]\n",
            " [ 2  3  3]]\n",
            "Classification Report:\n",
            "              precision    recall  f1-score   support\n",
            "\n",
            "           0       0.86      0.86      0.86        14\n",
            "           1       0.79      0.79      0.79        14\n",
            "           2       0.38      0.38      0.38         8\n",
            "\n",
            "    accuracy                           0.72        36\n",
            "   macro avg       0.67      0.67      0.67        36\n",
            "weighted avg       0.72      0.72      0.72        36\n",
            "\n",
            "MisClassification Rate = 0.2777777777777778\n",
            "\n",
            "\n",
            "KNN Regression for test size 0.3\n",
            "Accuracy : - 0.7407407407407407\n",
            "Confusion Matrix : - \n",
            "[[17  0  2]\n",
            " [ 1 15  5]\n",
            " [ 1  5  8]]\n",
            "Classification Report:\n",
            "              precision    recall  f1-score   support\n",
            "\n",
            "           0       0.89      0.89      0.89        19\n",
            "           1       0.75      0.71      0.73        21\n",
            "           2       0.53      0.57      0.55        14\n",
            "\n",
            "    accuracy                           0.74        54\n",
            "   macro avg       0.73      0.73      0.73        54\n",
            "weighted avg       0.74      0.74      0.74        54\n",
            "\n",
            "MisClassification Rate = 0.2592592592592593\n",
            "\n",
            "\n",
            "KNN Regression for test size 0.4\n",
            "Accuracy : - 0.6944444444444444\n",
            "Confusion Matrix : - \n",
            "[[24  0  2]\n",
            " [ 2 17  8]\n",
            " [ 2  8  9]]\n",
            "Classification Report:\n",
            "              precision    recall  f1-score   support\n",
            "\n",
            "           0       0.86      0.92      0.89        26\n",
            "           1       0.68      0.63      0.65        27\n",
            "           2       0.47      0.47      0.47        19\n",
            "\n",
            "    accuracy                           0.69        72\n",
            "   macro avg       0.67      0.68      0.67        72\n",
            "weighted avg       0.69      0.69      0.69        72\n",
            "\n",
            "MisClassification Rate = 0.3055555555555556\n",
            "\n",
            "\n",
            "KNN Regression for test size 0.5\n",
            "Accuracy : - 0.6629213483146067\n",
            "Confusion Matrix : - \n",
            "[[27  2  4]\n",
            " [ 2 23  9]\n",
            " [ 1 12  9]]\n",
            "Classification Report:\n",
            "              precision    recall  f1-score   support\n",
            "\n",
            "           0       0.90      0.82      0.86        33\n",
            "           1       0.62      0.68      0.65        34\n",
            "           2       0.41      0.41      0.41        22\n",
            "\n",
            "    accuracy                           0.66        89\n",
            "   macro avg       0.64      0.63      0.64        89\n",
            "weighted avg       0.67      0.66      0.67        89\n",
            "\n",
            "MisClassification Rate = 0.3370786516853933\n",
            "\n"
          ]
        }
      ]
    }
  ]
}