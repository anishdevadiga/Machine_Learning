{
  "nbformat": 4,
  "nbformat_minor": 0,
  "metadata": {
    "colab": {
      "provenance": [],
      "authorship_tag": "ABX9TyODd6+f/G3wiC/sFNR9pj2J",
      "include_colab_link": true
    },
    "kernelspec": {
      "name": "python3",
      "display_name": "Python 3"
    },
    "language_info": {
      "name": "python"
    }
  },
  "cells": [
    {
      "cell_type": "markdown",
      "metadata": {
        "id": "view-in-github",
        "colab_type": "text"
      },
      "source": [
        "<a href=\"https://colab.research.google.com/github/anishdevadiga/Machine_Learning/blob/main/naivebayesnew.ipynb\" target=\"_parent\"><img src=\"https://colab.research.google.com/assets/colab-badge.svg\" alt=\"Open In Colab\"/></a>"
      ]
    },
    {
      "cell_type": "code",
      "execution_count": 21,
      "metadata": {
        "id": "s9Dqi49x_4Nl",
        "colab": {
          "base_uri": "https://localhost:8080/"
        },
        "outputId": "c4cd58e4-ea71-4eeb-e0c1-58e3ed89adb9"
      },
      "outputs": [
        {
          "output_type": "stream",
          "name": "stdout",
          "text": [
            "Drive already mounted at /content/drive; to attempt to forcibly remount, call drive.mount(\"/content/drive\", force_remount=True).\n"
          ]
        }
      ],
      "source": [
        "import pandas as pd\n",
        "import numpy as np\n",
        "from sklearn.model_selection import train_test_split\n",
        "from sklearn import preprocessing\n",
        "from sklearn.naive_bayes import GaussianNB\n",
        "from sklearn import metrics\n",
        "from sklearn.metrics import confusion_matrix\n",
        "from google.colab import drive\n",
        "from tabulate import tabulate\n",
        "\n",
        "drive.mount('/content/drive')"
      ]
    },
    {
      "cell_type": "code",
      "source": [
        "golf=pd.read_csv('/content/drive/My Drive/golf-dataset.csv')\n",
        "o=golf['Outlook'].values\n",
        "outlook=list(o)\n",
        "t=golf['Temp'].values\n",
        "temp=list(t)\n",
        "h=golf['Humidity'].values\n",
        "humidity=list(h)\n",
        "w=golf['Windy'].values\n",
        "windy=list(w)\n",
        "p=golf['Play Golf'].values\n",
        "play=list(p)"
      ],
      "metadata": {
        "id": "mfFkuoF1AN9m"
      },
      "execution_count": 9,
      "outputs": []
    },
    {
      "cell_type": "code",
      "source": [
        "le=preprocessing.LabelEncoder()\n",
        "outlook_enco=le.fit_transform(outlook)\n",
        "temp_encoded=le.fit_transform(temp)\n",
        "windy_encoded=le.fit_transform(windy)\n",
        "humidity_encoded=le.fit_transform(humidity)\n",
        "play_encoded=le.fit_transform(play)"
      ],
      "metadata": {
        "id": "soGllloIX8f1"
      },
      "execution_count": 10,
      "outputs": []
    },
    {
      "cell_type": "code",
      "source": [
        "features=list(zip(outlook_enco,temp_encoded,humidity_encoded,windy_encoded))\n",
        "X=np.array(features)\n",
        "Y=np.array(play_encoded)\n",
        "test = [0.3, 0.4, 0.5]\n",
        "result=[]"
      ],
      "metadata": {
        "id": "I1vWfo1sYPMP"
      },
      "execution_count": 24,
      "outputs": []
    },
    {
      "cell_type": "code",
      "source": [
        "for t in test:\n",
        "   print(f'Test Size {t} ')\n",
        "   X_train, X_test, y_train, y_test = train_test_split(X, Y, test_size=t, random_state=42)\n",
        "   model=GaussianNB()\n",
        "   model.fit(X_train,y_train)\n",
        "   y_pred=model.predict(X_test)\n",
        "   accuracy = metrics.accuracy_score(y_test, y_pred)\n",
        "   conf=confusion_matrix(y_test, y_pred)\n",
        "   class_report=metrics.classification_report(y_test, y_pred,output_dict=True)\n",
        "   print(f\"Accuracy: {accuracy:.2f}\")\n",
        "   print(\"Classification Report:-\\n\",metrics.classification_report(y_test, y_pred))\n",
        "   print('Confusion Matrix : -\\n',conf)\n",
        "   print()\n",
        "   result.append([t,accuracy,conf.tolist(),class_report['accuracy']])\n",
        "   table = [[t, accuracy, conf.tolist(), class_report['accuracy']]]"
      ],
      "metadata": {
        "colab": {
          "base_uri": "https://localhost:8080/"
        },
        "id": "YKmW6m7baER0",
        "outputId": "ea0eb8e5-7016-42fa-e173-86c25a07866c"
      },
      "execution_count": 34,
      "outputs": [
        {
          "output_type": "stream",
          "name": "stdout",
          "text": [
            "Test Size 0.3 \n",
            "Accuracy: 0.60\n",
            "Classification Report:-\n",
            "               precision    recall  f1-score   support\n",
            "\n",
            "           0       0.50      0.50      0.50         2\n",
            "           1       0.67      0.67      0.67         3\n",
            "\n",
            "    accuracy                           0.60         5\n",
            "   macro avg       0.58      0.58      0.58         5\n",
            "weighted avg       0.60      0.60      0.60         5\n",
            "\n",
            "Confusion Matrix : -\n",
            " [[1 1]\n",
            " [1 2]]\n",
            "\n",
            "Test Size 0.4 \n",
            "Accuracy: 0.67\n",
            "Classification Report:-\n",
            "               precision    recall  f1-score   support\n",
            "\n",
            "           0       0.50      0.50      0.50         2\n",
            "           1       0.75      0.75      0.75         4\n",
            "\n",
            "    accuracy                           0.67         6\n",
            "   macro avg       0.62      0.62      0.62         6\n",
            "weighted avg       0.67      0.67      0.67         6\n",
            "\n",
            "Confusion Matrix : -\n",
            " [[1 1]\n",
            " [1 3]]\n",
            "\n",
            "Test Size 0.5 \n",
            "Accuracy: 0.57\n",
            "Classification Report:-\n",
            "               precision    recall  f1-score   support\n",
            "\n",
            "           0       0.33      0.50      0.40         2\n",
            "           1       0.75      0.60      0.67         5\n",
            "\n",
            "    accuracy                           0.57         7\n",
            "   macro avg       0.54      0.55      0.53         7\n",
            "weighted avg       0.63      0.57      0.59         7\n",
            "\n",
            "Confusion Matrix : -\n",
            " [[1 1]\n",
            " [2 3]]\n",
            "\n"
          ]
        }
      ]
    },
    {
      "cell_type": "code",
      "source": [
        "df_results = pd.DataFrame(result, columns=[\"Test Size\", \"Accuracy\", \"Confusion Matrix\", \"Classification Report\"])\n",
        "df_results.to_excel(\"/content/drive/My Drive/classification_results.xlsx\", index=False)\n",
        "print(\"\\nResults successfully written to 'classification_results.xlsx'\")"
      ],
      "metadata": {
        "colab": {
          "base_uri": "https://localhost:8080/"
        },
        "id": "hSy8RD4wiwms",
        "outputId": "79a89161-669d-48b7-d92f-8ae7a7090b76"
      },
      "execution_count": 35,
      "outputs": [
        {
          "output_type": "stream",
          "name": "stdout",
          "text": [
            "\n",
            "Results successfully written to 'classification_results.xlsx'\n"
          ]
        }
      ]
    }
  ]
}