{
  "nbformat": 4,
  "nbformat_minor": 0,
  "metadata": {
    "colab": {
      "provenance": [],
      "authorship_tag": "ABX9TyM6E1MKat83m02dmio04sTW",
      "include_colab_link": true
    },
    "kernelspec": {
      "name": "python3",
      "display_name": "Python 3"
    },
    "language_info": {
      "name": "python"
    }
  },
  "cells": [
    {
      "cell_type": "markdown",
      "metadata": {
        "id": "view-in-github",
        "colab_type": "text"
      },
      "source": [
        "<a href=\"https://colab.research.google.com/github/anishdevadiga/Machine_Learning/blob/main/multilinearRegressionMatrix.ipynb\" target=\"_parent\"><img src=\"https://colab.research.google.com/assets/colab-badge.svg\" alt=\"Open In Colab\"/></a>"
      ]
    },
    {
      "cell_type": "code",
      "source": [
        "import numpy as np\n",
        "import pandas as pd\n",
        "import matplotlib.pyplot as plt\n",
        "from google.colab import drive\n",
        "drive.mount('/content/drive')\n",
        "\n",
        "# Matrix method by taking entire dataset\n",
        "def performMultiLinearRegression(df):\n",
        "    df = df.apply(pd.to_numeric, errors='coerce')\n",
        "    X = df.iloc[:, :-1].values\n",
        "    Y = df.iloc[:, -1].values\n",
        "\n",
        "    # Adding ones column for the intercept\n",
        "    ones_column = np.ones((X.shape[0], 1))\n",
        "    X_c = np.c_[ones_column, X]\n",
        "\n",
        "    Xvalues = np.delete(X_c, --1, axis=1)\n",
        "    XvaluesTranpose = Xvalues.T\n",
        "    XmulVal = np.dot(XvaluesTranpose, Xvalues)\n",
        "    Xinv = np.linalg.inv(XmulVal)\n",
        "\n",
        "    y_values = np.dot(XvaluesTranpose, Y)\n",
        "    coef = np.dot(Xinv, y_values)\n",
        "\n",
        "    y_pred = np.dot(Xvalues, coef)\n",
        "\n",
        "    # Calculate SSR, SST, SSE\n",
        "    ssr = np.sum((y_pred - np.mean(Y))**2)\n",
        "    sst = np.sum((Y - np.mean(Y))**2)\n",
        "    sse = np.sum((Y - y_pred)**2)\n",
        "\n",
        "    # Calculate MSE and R^2\n",
        "    mse = sse / len(Y)\n",
        "    r2_score = 1 - (sse / sst)\n",
        "\n",
        "    eqn = \"y={:.2f}\".format(coef[0])\n",
        "    for i in range(1, len(coef)):\n",
        "        eqn += \" + {:.2f}*x{}\".format(coef[i], i)\n",
        "    print(eqn)\n",
        "\n",
        "    # Return the results\n",
        "    print(f\"SSR (Regression sum of squares): {ssr}\")\n",
        "    print(f\"SST (Total sum of squares): {sst}\")\n",
        "    print(f\"SSE (Error sum of squares): {sse}\")\n",
        "    print(f\"MSE (Mean squared error): {mse}\")\n",
        "    print(f\"R² Score: {r2_score}\")\n",
        "\n",
        "# Use the function on mtcars dataset\n",
        "print('***MLR on mtcars dataset****')\n",
        "mtcars = pd.read_csv('/content/drive/My Drive/mtcars.csv')\n",
        "performMultiLinearRegression(mtcars)\n",
        "\n",
        "\n",
        "\n"
      ],
      "metadata": {
        "colab": {
          "base_uri": "https://localhost:8080/"
        },
        "id": "A_ay-k3-_mpx",
        "outputId": "029f3efd-bfd1-4ce1-ad3f-dcfc981b5103"
      },
      "execution_count": 68,
      "outputs": [
        {
          "output_type": "stream",
          "name": "stdout",
          "text": [
            "Drive already mounted at /content/drive; to attempt to forcibly remount, call drive.mount(\"/content/drive\", force_remount=True).\n",
            "***MLR on mtcars dataset****\n",
            "y=-2.47 + -0.01*x1 + 0.29*x2 + -0.01*x3 + 0.01*x4 + 0.42*x5 + 1.53*x6 + -0.22*x7 + -0.23*x8 + -0.12*x9 + 0.77*x10\n",
            "SSR (Regression sum of squares): 70.67709776629607\n",
            "SST (Total sum of squares): 80.875\n",
            "SSE (Error sum of squares): 10.19790223370595\n",
            "MSE (Mean squared error): 0.31868444480331093\n",
            "R² Score: 0.8739053819634504\n"
          ]
        }
      ]
    }
  ]
}